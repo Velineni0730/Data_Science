{
 "cells": [
  {
   "cell_type": "code",
   "execution_count": 2,
   "id": "be7e4e2a-f58f-4eb3-9ce7-d4d772728d35",
   "metadata": {},
   "outputs": [],
   "source": [
    "# -------------------------------\n",
    "#  Titanic Data Visualization : INTRODUCTION TO DATA SCIENCE   ASSIGNMENT\n",
    "#This notebook demonstrates 7 types of data visualizations using the Titanic dataset.  \n",
    "#The goal is to explore and understand the data through different graphical techniques.  \n",
    "\n",
    "#We will use:\n",
    "#- Bar Graph\n",
    "#- Histogram\n",
    "#- Pie Chart\n",
    "#- Scatter Plot\n",
    "#- Line Plot\n",
    "#- Box Plot\n",
    "#- Heatmap\n",
    "\n",
    "#Dataset: `tested.csv` (Titanic dataset)\n",
    "# -------------------------------"
   ]
  },
  {
   "cell_type": "code",
   "execution_count": 3,
   "id": "960b1d84-17af-4c5b-a730-568327e02a0e",
   "metadata": {},
   "outputs": [],
   "source": [
    "# Importing the Required Libraries\n",
    "import pandas as pd\n",
    "import matplotlib.pyplot as plt\n",
    "import seaborn as sns"
   ]
  },
  {
   "cell_type": "code",
   "execution_count": 13,
   "id": "e505b10e-09c5-4c2d-86d5-1c796191f430",
   "metadata": {},
   "outputs": [],
   "source": [
    "# Loading dataset\n",
    "df = pd.read_csv(\"/Users/velinenibharatkumar/Downloads/tested.csv\")"
   ]
  }
 ],
 "metadata": {
  "kernelspec": {
   "display_name": "Python 3 (ipykernel)",
   "language": "python",
   "name": "python3"
  },
  "language_info": {
   "codemirror_mode": {
    "name": "ipython",
    "version": 3
   },
   "file_extension": ".py",
   "mimetype": "text/x-python",
   "name": "python",
   "nbconvert_exporter": "python",
   "pygments_lexer": "ipython3",
   "version": "3.11.7"
  }
 },
 "nbformat": 4,
 "nbformat_minor": 5
}
